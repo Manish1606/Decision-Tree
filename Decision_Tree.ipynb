{
  "nbformat": 4,
  "nbformat_minor": 0,
  "metadata": {
    "colab": {
      "provenance": []
    },
    "kernelspec": {
      "name": "python3",
      "display_name": "Python 3"
    },
    "language_info": {
      "name": "python"
    }
  },
  "cells": [
    {
      "cell_type": "markdown",
      "source": [
        "##### Decision Tree #####"
      ],
      "metadata": {
        "id": "r9wiWN8XdFuh"
      }
    },
    {
      "cell_type": "markdown",
      "source": [
        "Q1.What is a Decision Tree, and how does it work?\n",
        "==>A decision tree is a flowchart-like diagram used to map out potential solutions to a problem and make decisions based on a set of rules.\n",
        "Decision Tree work:\n",
        "1. Training Data:\n",
        "Decision trees are trained using a dataset containing known outcomes and related variables, which is referred to as training data.\n",
        "2. Building the Tree:\n",
        "The algorithm identifies the most important features and creates splits (nodes) based on those features to create the tree.\n",
        "3. Splitting Nodes:\n",
        "Internal nodes represent attribute tests, and branches represent attribute values.\n",
        "4. Leaf Nodes:\n",
        "Leaf nodes represent the final decisions or predictions.\n",
        "5. Decision Making:\n",
        "When a new input is presented, the algorithm traverses the tree based on the input's features, following the branches until a leaf node is reached, providing the final decision.\n",
        "\n",
        "Q2.What are impurity measures in Decision Trees?\n",
        "==>Impurity measures in decision trees quantify the homogeneity of classes within a node. They are used to determine the best split for a node by evaluating the reduction in impurity after splitting. Two common impurity measures are Gini impurity and entropy.\n",
        "\n",
        "Q3.What is the mathematical formula for Gini Impurity?\n",
        "==>The Gini Impurity formula measures how often a randomly chosen element would be misclassified if the set were randomly labeled with the current probability distribution of the classes. For a set D with C classes, the Gini Impurity is calculated as:\n",
        "Gini(D) = 1 -  ∑ᵢ (pᵢ)²\n",
        "Where:\n",
        "* pᵢ is the proportion of instances belonging to class i in the set D.\n",
        "* The sum is taken over all C classes.\n",
        "\n",
        "Q4.What is the mathematical formula for Entropy?\n",
        "==>Therefore, thermodynamic entropy has the dimension of energy divided by temperature, and the unit joule per kelvin (J/K) in the International System of Units (SI).\n",
        "S=k_{b}\\ln\\Omega\n",
        "S\t=\tentropy\n",
        "k_{b}\t=\tBoltzmann constant\n",
        "\\ln\t=\tnatural logarithm\n",
        "\\Omega\t=\tnumber of microscopic configurations\n",
        "\n",
        "Q5.What is Information Gain, and how is it used in Decision Trees?\n",
        "==>Information Gain (IG) is a metric used in decision tree algorithms to determine the best attribute for splitting a dataset.\n",
        "Information Gain is used in decision trees:\n",
        "1. Calculating Entropy\n",
        "2. Calculating Information Gain\n",
        "3. Choosing the Best Attribute\n",
        "4. Building the Tree\n",
        "\n",
        "Q6.What is the difference between Gini Impurity and Entropy?\n",
        "==>Gini impurity and entropy are both metrics used to measure the impurity or randomness of a set of data, specifically in decision trees. However, they differ in their calculation and interpretation. Gini impurity measures the probability of misclassifying a randomly chosen element, while entropy measures the information content or uncertainty of a data distribution. In practice, they are often used interchangeably and tend to produce similar results, but Gini impurity is generally faster to compute.\n",
        "\n",
        "Q7.What is the mathematical explanation behind Decision Trees?\n",
        "==>Decision trees use mathematical concepts like entropy, Gini impurity, and information gain to build models that predict outcomes or classify data. These metrics help determine the best way to split the data at each node, aiming to create a tree where each branch leads to a more homogeneous class or a more precise prediction.\n",
        "\n",
        "Q8.What is Pre-Pruning in Decision Trees?\n",
        "==>As the names suggest, pre-pruning or early stopping involves stopping the tree before it has completed classifying the training set and post-pruning refers to pruning the tree after it has finished. I prefer to differentiate these terms more clearly by using early-stopping and pruning.\n",
        "\n",
        "Q9.What is Post-Pruning in Decision Trees?\n",
        "=>Post-pruning in decision trees involves growing the tree fully, potentially allowing it to overfit the training data, and then removing branches that don't contribute significantly to generalization performance on unseen data. This technique, also known as cost-complexity pruning, is applied after the decision tree has been fully constructed.\n",
        "\n",
        "Q10.What is the difference between Pre-Pruning and Post-Pruning?\n",
        "==>Pre-pruning and post-pruning are two techniques used to control the complexity of decision trees in machine learning. Pre-pruning, also known as early stopping, limits the growth of the tree during its construction, preventing it from becoming overly complex. Post-pruning, on the other hand, simplifies a fully grown tree by removing branches that don't significantly contribute to model performance.\n",
        "\n",
        "Q11.What is a Decision Tree Regressor?\n",
        "==>Decision tree regression is a supervised machine learning technique used to predict continuous numerical values. It builds a tree-like model where each node represents a decision based on a feature, and the leaf nodes contain the predicted value. The model splits the data into subsets based on the features that minimize the prediction error, forming a tree structure.\n",
        "\n",
        "Q12.What are the advantages and disadvantages of Decision Trees?\n",
        "==>Decision trees, a versatile machine learning algorithm, offer benefits like interpretability, adaptability to various data types, and the ability to handle missing values.\n",
        "# Advantage:\n",
        "* Interpretability: Decision trees are easy to understand and visualize, making them suitable for scenarios where transparency and human understanding are crucial.\n",
        "* Versatility: They can be used for both classification and regression tasks, and they don't require extensive data preparation or scaling.\n",
        "* Handles Non-Linear Relationships: Decision trees can effectively model complex, non-linear patterns in the data.\n",
        "* Robust to Outliers: They are relatively insensitive to outliers in the dataset.\n",
        "* Can Handle Missing Values: Decision trees can be trained and used even with missing data points.\n",
        "# Disadvantage:\n",
        "* Overfitting:\n",
        "Decision trees can learn the training data too well, leading to poor generalization on new, unseen data.\n",
        "* Instability:\n",
        "Small changes in the training data can lead to significant variations in the tree structure and predictions.\n",
        "* Bias towards Dominant Classes:\n",
        "In imbalanced datasets, decision trees may favor the majority class, leading to poor performance on minority classes.\n",
        "* Difficulty with Complex, Non-Linear Relationships:\n",
        "While they excel at non-linear relationships, decision trees can struggle with complex, smooth, or continuous patterns.\n",
        "* Requires Enough Data:\n",
        "Decision trees require a sufficient amount of data to learn effective splits and make accurate predictions.\n",
        "* Computational Complexity:\n",
        "Building and using decision trees can be computationally expensive, especially on large datasets.\n",
        "\n",
        "Q13.How does a Decision Tree handle missing values?\n",
        "==>To handle missing values effectively, decision trees use surrogate splits. These surrogate splits act as backup choices when the primary attribute for a split has missing values. The algorithm identifies the next best attribute that can provide a similar separation as the primary attribute.\n",
        "\n",
        "Q14.How does a Decision Tree handle categorical features?\n",
        "==>Decision trees inherently handle categorical features by splitting data based on the categories within those features. Unlike continuous features where splits are based on thresholds, decision trees directly compare data points to specific categories during the splitting process.\n",
        "\n",
        "Q15.What are some real-world applications of Decision Trees?\n",
        "==>Decision trees find applications in various fields due to their ability to model complex relationships and make predictions based on data patterns. They are used for tasks like medical diagnosis, customer churn prediction, financial risk assessment, and manufacturing quality control.\n"
      ],
      "metadata": {
        "id": "yeg9pZR1dIVC"
      }
    },
    {
      "cell_type": "code",
      "source": [
        "#### Practical #####"
      ],
      "metadata": {
        "id": "ST6f2h4sgdCA"
      },
      "execution_count": null,
      "outputs": []
    },
    {
      "cell_type": "code",
      "source": [
        "#Q1.Write a Python program to train a Decision Tree Classifier on the Iris dataset and print the model accuracy.\n",
        "\n",
        "from sklearn.datasets import load_iris\n",
        "from sklearn.model_selection import train_test_split\n",
        "from sklearn.tree import DecisionTreeClassifier\n",
        "from sklearn.metrics import accuracy_score\n",
        "\n",
        "# Load the Iris dataset\n",
        "iris = load_iris()\n",
        "X, y = iris.data, iris.target\n",
        "\n",
        "# Split the dataset into training and testing sets\n",
        "X_train, X_test, y_train, y_test = train_test_split(X, y, test_size=0.3, random_state=42)\n",
        "\n",
        "# Create a Decision Tree Classifier\n",
        "dt_classifier = DecisionTreeClassifier(random_state=42)\n",
        "\n",
        "# Train the classifier\n",
        "dt_classifier.fit(X_train, y_train)\n",
        "\n",
        "# Make predictions on the test set\n",
        "y_pred = dt_classifier.predict(X_test)\n",
        "\n",
        "# Calculate the accuracy of the model\n",
        "accuracy = accuracy_score(y_test, y_pred)\n",
        "\n",
        "# Print the accuracy\n",
        "print(f\"Accuracy: {accuracy:.2f}\")"
      ],
      "metadata": {
        "colab": {
          "base_uri": "https://localhost:8080/"
        },
        "id": "QG9Y30U2gf3S",
        "outputId": "453ed517-1ea0-48f2-e01d-64e90bb4d503"
      },
      "execution_count": 1,
      "outputs": [
        {
          "output_type": "stream",
          "name": "stdout",
          "text": [
            "Accuracy: 1.00\n"
          ]
        }
      ]
    },
    {
      "cell_type": "code",
      "source": [
        "#Q2.Write a Python program to train a Decision Tree Classifier using Gini Impurity as the criterion and print the feature importances.\n",
        "\n",
        "from sklearn.datasets import load_iris\n",
        "from sklearn.model_selection import train_test_split\n",
        "from sklearn.tree import DecisionTreeClassifier\n",
        "\n",
        "# Load the iris dataset\n",
        "iris = load_iris()\n",
        "X = iris.data\n",
        "y = iris.target\n",
        "\n",
        "# Split the data into training and testing sets\n",
        "X_train, X_test, y_train, y_test = train_test_split(X, y, test_size=0.3, random_state=42)\n",
        "\n",
        "# Create a Decision Tree Classifier with Gini impurity\n",
        "clf = DecisionTreeClassifier(criterion=\"gini\")\n",
        "\n",
        "# Train the classifier\n",
        "clf.fit(X_train, y_train)\n",
        "\n",
        "# Print feature importances\n",
        "print(\"Feature Importances:\")\n",
        "for feature_name, importance in zip(iris.feature_names, clf.feature_importances_):\n",
        "    print(f\"{feature_name}: {importance}\")"
      ],
      "metadata": {
        "colab": {
          "base_uri": "https://localhost:8080/"
        },
        "id": "UozSPKEMg_Jh",
        "outputId": "76f6b131-7a37-4dde-8c45-066191cfced8"
      },
      "execution_count": 2,
      "outputs": [
        {
          "output_type": "stream",
          "name": "stdout",
          "text": [
            "Feature Importances:\n",
            "sepal length (cm): 0.01911001911001911\n",
            "sepal width (cm): 0.01911001911001911\n",
            "petal length (cm): 0.5381637432635216\n",
            "petal width (cm): 0.42361621851644027\n"
          ]
        }
      ]
    },
    {
      "cell_type": "code",
      "source": [
        "#Q3.Write a Python program to train a Decision Tree Classifier using Entropy as the splitting criterion and print the model accuracy.\n",
        "\n",
        "# Importing the required packages\n",
        "import numpy as np\n",
        "import pandas as pd\n",
        "from sklearn.metrics import confusion_matrix, accuracy_score, classification_report\n",
        "from sklearn.model_selection import train_test_split\n",
        "from sklearn.tree import DecisionTreeClassifier\n",
        "import matplotlib.pyplot as plt\n",
        "# Function to import the dataset\n",
        "def importdata():\n",
        "    balance_data = pd.read_csv(\n",
        "        'https://archive.ics.uci.edu/ml/machine-learning-' +\n",
        "        'databases/balance-scale/balance-scale.data',\n",
        "        sep=',', header=None)\n",
        "\n",
        "    # Displaying dataset information\n",
        "    print(\"Dataset Length: \", len(balance_data))\n",
        "    print(\"Dataset Shape: \", balance_data.shape)\n",
        "    print(\"Dataset: \", balance_data.head())\n",
        "\n",
        "    return balance_data"
      ],
      "metadata": {
        "id": "WnRrEmIKhIg6"
      },
      "execution_count": 3,
      "outputs": []
    },
    {
      "cell_type": "code",
      "source": [
        "#Q4.Write a Python program to train a Decision Tree Regressor on a housing dataset and evaluate using Mean Squared Error (MSE).\n",
        "\n",
        "import numpy as np\n",
        "import matplotlib.pyplot as plt\n",
        "from sklearn.tree import DecisionTreeRegressor, export_text\n",
        "from sklearn.model_selection import train_test_split\n",
        "from sklearn.metrics import mean_squared_error\n",
        "# Generate synthetic dataset\n",
        "np.random.seed(42)\n",
        "X = np.sort(5 * np.random.rand(100, 1), axis=0)\n",
        "y = np.sin(X).ravel() + np.random.normal(0, 0.1, X.shape[0])\n",
        "\n",
        "# Visualize the dataset\n",
        "plt.scatter(X, y, color='red', label='Data')\n",
        "plt.title(\"Synthetic Dataset\")\n",
        "plt.xlabel(\"Feature\")\n",
        "plt.ylabel(\"Target\")\n",
        "plt.legend()\n",
        "plt.show()"
      ],
      "metadata": {
        "colab": {
          "base_uri": "https://localhost:8080/",
          "height": 472
        },
        "id": "QV0DU8-jhdAa",
        "outputId": "a9066010-79f6-4cd9-e34e-722ea5bbc53d"
      },
      "execution_count": 4,
      "outputs": [
        {
          "output_type": "display_data",
          "data": {
            "text/plain": [
              "<Figure size 640x480 with 1 Axes>"
            ],
            "image/png": "[encoded data removed]"
          },
          "metadata": {}
        }
      ]
    },
    {
      "cell_type": "code",
      "source": [
        "#Q5.Write a Python program to train a Decision Tree Classifier and visualize the tree using graphviz.\n",
        "\n",
        "from sklearn.tree import export_graphviz\n",
        "from sklearn.externals.six import StringIO\n",
        "from IPython.display import Image\n",
        "import pydotplus\n",
        "\n",
        "dot_data = StringIO()\n",
        "export_graphviz(clf, out_file=dot_data,\n",
        "                filled=True, rounded=True,\n",
        "                special_characters=True,feature_names = feature_cols,class_names=['0','1'])\n",
        "graph = pydotplus.graph_from_dot_data(dot_data.getvalue())\n",
        "graph.write_png('diabetes.png')\n",
        "Image(graph.create_png())\n"
      ],
      "metadata": {
        "colab": {
          "base_uri": "https://localhost:8080/",
          "height": 383
        },
        "id": "Zh4OGhAehtwA",
        "outputId": "17abb440-c4ab-4bde-d86a-e74d6ac79eb9"
      },
      "execution_count": 5,
      "outputs": [
        {
          "output_type": "error",
          "ename": "ModuleNotFoundError",
          "evalue": "No module named 'sklearn.externals.six'",
          "traceback": [
            "\u001b[0;31m---------------------------------------------------------------------------\u001b[0m",
            "\u001b[0;31mModuleNotFoundError\u001b[0m                       Traceback (most recent call last)",
            "\u001b[0;32m<ipython-input-5-8dd716339805>\u001b[0m in \u001b[0;36m<cell line: 0>\u001b[0;34m()\u001b[0m\n\u001b[1;32m      2\u001b[0m \u001b[0;34m\u001b[0m\u001b[0m\n\u001b[1;32m      3\u001b[0m \u001b[0;32mfrom\u001b[0m \u001b[0msklearn\u001b[0m\u001b[0;34m.\u001b[0m\u001b[0mtree\u001b[0m \u001b[0;32mimport\u001b[0m \u001b[0mexport_graphviz\u001b[0m\u001b[0;34m\u001b[0m\u001b[0;34m\u001b[0m\u001b[0m\n\u001b[0;32m----> 4\u001b[0;31m \u001b[0;32mfrom\u001b[0m \u001b[0msklearn\u001b[0m\u001b[0;34m.\u001b[0m\u001b[0mexternals\u001b[0m\u001b[0;34m.\u001b[0m\u001b[0msix\u001b[0m \u001b[0;32mimport\u001b[0m \u001b[0mStringIO\u001b[0m\u001b[0;34m\u001b[0m\u001b[0;34m\u001b[0m\u001b[0m\n\u001b[0m\u001b[1;32m      5\u001b[0m \u001b[0;32mfrom\u001b[0m \u001b[0mIPython\u001b[0m\u001b[0;34m.\u001b[0m\u001b[0mdisplay\u001b[0m \u001b[0;32mimport\u001b[0m \u001b[0mImage\u001b[0m\u001b[0;34m\u001b[0m\u001b[0;34m\u001b[0m\u001b[0m\n\u001b[1;32m      6\u001b[0m \u001b[0;32mimport\u001b[0m \u001b[0mpydotplus\u001b[0m\u001b[0;34m\u001b[0m\u001b[0;34m\u001b[0m\u001b[0m\n",
            "\u001b[0;31mModuleNotFoundError\u001b[0m: No module named 'sklearn.externals.six'",
            "",
            "\u001b[0;31m---------------------------------------------------------------------------\u001b[0;32m\nNOTE: If your import is failing due to a missing package, you can\nmanually install dependencies using either !pip or !apt.\n\nTo view examples of installing some common dependencies, click the\n\"Open Examples\" button below.\n\u001b[0;31m---------------------------------------------------------------------------\u001b[0m\n"
          ],
          "errorDetails": {
            "actions": [
              {
                "action": "open_url",
                "actionText": "Open Examples",
                "url": "/notebooks/snippets/importing_libraries.ipynb"
              }
            ]
          }
        }
      ]
    },
    {
      "cell_type": "code",
      "source": [
        "#Q6.Write a Python program to train a Decision Tree Classifier with a maximum depth of 3 and compare its accuracy with a fully grown tree.\n",
        "\n",
        "from sklearn.tree import DecisionTreeClassifier\n",
        "from sklearn.model_selection import train_test_split\n",
        "from sklearn.metrics import accuracy_score\n",
        "\n",
        "\n",
        "\n",
        "\n",
        "\n"
      ],
      "metadata": {
        "id": "FWCzLTsciH8v"
      },
      "execution_count": 7,
      "outputs": []
    },
    {
      "cell_type": "code",
      "source": [
        "#Q7.Write a Python program to train a Decision Tree Classifier using min_samples_split=5 and compare its accuracy with a default tree.\n",
        "\n",
        "from sklearn.model_selection import train_test_split\n",
        "from sklearn.tree import DecisionTreeClassifier\n",
        "from sklearn.metrics import accuracy_score\n",
        "from sklearn.datasets import load_iris\n",
        "\n",
        "# Load the iris dataset\n",
        "iris = load_iris()\n",
        "X, y = iris.data, iris.target\n",
        "\n",
        "# Split data into training and testing sets\n",
        "X_train, X_test, y_train, y_test = train_test_split(X, y, test_size=0.3, random_state=42)\n",
        "\n",
        "# Train a Decision Tree Classifier with default parameters\n",
        "default_tree = DecisionTreeClassifier(random_state=42)\n",
        "default_tree.fit(X_train, y_train)\n",
        "default_predictions = default_tree.predict(X_test)\n",
        "default_accuracy = accuracy_score(y_test, default_predictions)\n",
        "\n",
        "# Train a Decision Tree Classifier with min_samples_split=5\n",
        "custom_tree = DecisionTreeClassifier(min_samples_split=5, random_state=42)\n",
        "custom_tree.fit(X_train, y_train)\n",
        "custom_predictions = custom_tree.predict(X_test)\n",
        "custom_accuracy = accuracy_score(y_test, custom_predictions)\n",
        "\n",
        "# Print the accuracy scores\n",
        "print(\"Accuracy of the default Decision Tree: {:.2f}\".format(default_accuracy))\n",
        "print(\"Accuracy of the Decision Tree with min_samples_split=5: {:.2f}\".format(custom_accuracy))"
      ],
      "metadata": {
        "colab": {
          "base_uri": "https://localhost:8080/"
        },
        "id": "Y3dvfDxcjCG6",
        "outputId": "f53f2733-ee05-4df3-b5fb-25f0b4e815a9"
      },
      "execution_count": 8,
      "outputs": [
        {
          "output_type": "stream",
          "name": "stdout",
          "text": [
            "Accuracy of the default Decision Tree: 1.00\n",
            "Accuracy of the Decision Tree with min_samples_split=5: 1.00\n"
          ]
        }
      ]
    },
    {
      "cell_type": "code",
      "source": [
        "#Q8.Write a Python program to apply feature scaling before training a Decision Tree Classifier and compare its accuracy with unscaled data.\n",
        "\n",
        "import pandas as pd\n",
        "from sklearn.model_selection import train_test_split\n",
        "from sklearn.tree import DecisionTreeClassifier\n",
        "from sklearn.preprocessing import StandardScaler\n",
        "from sklearn.metrics import accuracy_score\n",
        "from sklearn.datasets import load_iris\n",
        "\n",
        "# Load the Iris dataset\n",
        "iris = load_iris()\n",
        "data = pd.DataFrame(data=iris.data, columns=iris.feature_names)\n",
        "target = pd.DataFrame(data=iris.target, columns=['target'])\n",
        "df = pd.concat([data, target], axis=1)\n",
        "\n",
        "# Split data into training and testing sets\n",
        "X_train, X_test, y_train, y_test = train_test_split(df.drop('target', axis=1), df['target'], test_size=0.3, random_state=42)\n",
        "\n",
        "# Train Decision Tree without scaling\n",
        "dt_unscaled = DecisionTreeClassifier(random_state=42)\n",
        "dt_unscaled.fit(X_train, y_train)\n",
        "y_pred_unscaled = dt_unscaled.predict(X_test)\n",
        "accuracy_unscaled = accuracy_score(y_test, y_pred_unscaled)\n",
        "print(f'Accuracy without scaling: {accuracy_unscaled:.4f}')\n",
        "\n",
        "# Scale the data\n",
        "scaler = StandardScaler()\n",
        "X_train_scaled = scaler.fit_transform(X_train)\n",
        "X_test_scaled = scaler.transform(X_test)\n",
        "\n",
        "# Train Decision Tree with scaling\n",
        "dt_scaled = DecisionTreeClassifier(random_state=42)\n",
        "dt_scaled.fit(X_train_scaled, y_train)\n",
        "y_pred_scaled = dt_scaled.predict(X_test_scaled)\n",
        "accuracy_scaled = accuracy_score(y_test, y_pred_scaled)\n",
        "print(f'Accuracy with scaling: {accuracy_scaled:.4f}')"
      ],
      "metadata": {
        "colab": {
          "base_uri": "https://localhost:8080/"
        },
        "id": "y_QT8Bj1jOWP",
        "outputId": "e62940b3-2293-40e4-d55f-a0f3ee47cc28"
      },
      "execution_count": 9,
      "outputs": [
        {
          "output_type": "stream",
          "name": "stdout",
          "text": [
            "Accuracy without scaling: 1.0000\n",
            "Accuracy with scaling: 1.0000\n"
          ]
        }
      ]
    },
    {
      "cell_type": "code",
      "source": [
        "#Q9.Write a Python program to train a Decision Tree Classifier using One-vs-Rest (OvR) strategy for multiclass classification.\n",
        "\n",
        "from sklearn.datasets import load_iris\n",
        "from sklearn.model_selection import train_test_split\n",
        "from sklearn.tree import DecisionTreeClassifier\n",
        "from sklearn.multiclass import OneVsRestClassifier\n",
        "from sklearn.metrics import accuracy_score, classification_report\n",
        "\n",
        "# Load the Iris dataset as an example of multiclass data\n",
        "iris = load_iris()\n",
        "X = iris.data\n",
        "y = iris.target\n",
        "\n",
        "# Split the data into training and testing sets\n",
        "X_train, X_test, y_train, y_test = train_test_split(X, y, test_size=0.3, random_state=42)\n",
        "\n",
        "# Create a Decision Tree Classifier\n",
        "dtree = DecisionTreeClassifier(random_state=42)\n",
        "\n",
        "# Use OneVsRestClassifier for multiclass strategy\n",
        "ovr = OneVsRestClassifier(dtree)\n",
        "\n",
        "# Train the model\n",
        "ovr.fit(X_train, y_train)\n",
        "\n",
        "# Make predictions on the test set\n",
        "y_pred = ovr.predict(X_test)\n",
        "\n",
        "# Evaluate the model\n",
        "accuracy = accuracy_score(y_test, y_pred)\n",
        "report = classification_report(y_test, y_pred)\n",
        "\n",
        "print(\"Accuracy:\", accuracy)\n",
        "print(\"Classification Report:\\n\", report)"
      ],
      "metadata": {
        "colab": {
          "base_uri": "https://localhost:8080/"
        },
        "id": "FRHDXKxGjZCe",
        "outputId": "83a0d64f-ea4d-476e-b45f-2486108c8c05"
      },
      "execution_count": 10,
      "outputs": [
        {
          "output_type": "stream",
          "name": "stdout",
          "text": [
            "Accuracy: 1.0\n",
            "Classification Report:\n",
            "               precision    recall  f1-score   support\n",
            "\n",
            "           0       1.00      1.00      1.00        19\n",
            "           1       1.00      1.00      1.00        13\n",
            "           2       1.00      1.00      1.00        13\n",
            "\n",
            "    accuracy                           1.00        45\n",
            "   macro avg       1.00      1.00      1.00        45\n",
            "weighted avg       1.00      1.00      1.00        45\n",
            "\n"
          ]
        }
      ]
    },
    {
      "cell_type": "code",
      "source": [
        "#Q10.Write a Python program to train a Decision Tree Classifier and display the feature importance scores.\n",
        "\n",
        "from sklearn.datasets import load_iris\n",
        "from sklearn.model_selection import train_test_split\n",
        "from sklearn.tree import DecisionTreeClassifier\n",
        "import matplotlib.pyplot as plt\n",
        "import numpy as np\n",
        "\n",
        "# Load the iris dataset\n",
        "iris = load_iris()\n",
        "X, y = iris.data, iris.target\n",
        "feature_names = iris.feature_names\n",
        "\n",
        "# Split data into training and testing sets\n",
        "X_train, X_test, y_train, y_test = train_test_split(X, y, test_size=0.3, random_state=42)\n",
        "\n",
        "# Train Decision Tree Classifier\n",
        "dtree = DecisionTreeClassifier(random_state=42)\n",
        "dtree.fit(X_train, y_train)\n",
        "\n",
        "# Get feature importance scores\n",
        "importance_scores = dtree.feature_importances_\n",
        "\n",
        "# Sort feature importances in descending order\n",
        "indices = np.argsort(importance_scores)[::-1]\n",
        "\n",
        "# Print feature ranking\n",
        "print(\"Feature ranking:\")\n",
        "for f in range(X.shape[1]):\n",
        "    print(\"%d. feature %d (%f) - %s\" % (f + 1, indices[f], importance_scores[indices[f]], feature_names[indices[f]]))\n",
        "\n",
        "# Plot feature importance\n",
        "plt.figure(figsize=(10, 6))\n",
        "plt.title(\"Feature Importance\")\n",
        "plt.bar(range(X.shape[1]), importance_scores[indices], align=\"center\")\n",
        "plt.xticks(range(X.shape[1]), [feature_names[i] for i in indices], rotation=\"vertical\")\n",
        "plt.xlim([-1, X.shape[1]])\n",
        "plt.tight_layout()\n",
        "plt.show()"
      ],
      "metadata": {
        "colab": {
          "base_uri": "https://localhost:8080/",
          "height": 694
        },
        "id": "usMKIWrkjh79",
        "outputId": "9bc7d622-61ba-43c8-978f-35f650ceed5b"
      },
      "execution_count": 11,
      "outputs": [
        {
          "output_type": "stream",
          "name": "stdout",
          "text": [
            "Feature ranking:\n",
            "1. feature 2 (0.893264) - petal length (cm)\n",
            "2. feature 3 (0.087626) - petal width (cm)\n",
            "3. feature 1 (0.019110) - sepal width (cm)\n",
            "4. feature 0 (0.000000) - sepal length (cm)\n"
          ]
        },
        {
          "output_type": "display_data",
          "data": {
            "text/plain": [
              "<Figure size 1000x600 with 1 Axes>"
            ],
            "image/png": "[encoded data removed]"
          },
          "metadata": {}
        }
      ]
    },
    {
      "cell_type": "code",
      "source": [
        "#Q11.Write a Python program to train a Decision Tree Regressor with max_depth=5 and compare its performance with an unrestricted tree.\n",
        "\n",
        "import numpy as np\n",
        "from sklearn.tree import DecisionTreeRegressor\n",
        "from sklearn.model_selection import train_test_split\n",
        "from sklearn.metrics import mean_squared_error\n",
        "\n",
        "# Generate sample data\n",
        "np.random.seed(0)\n",
        "X = np.sort(5 * np.random.rand(80, 1), axis=0)\n",
        "y = np.sin(X).ravel() + np.random.normal(0, 0.1, X.shape[0])\n",
        "\n",
        "# Split data into training and testing sets\n",
        "X_train, X_test, y_train, y_test = train_test_split(X, y, test_size=0.2, random_state=42)\n",
        "\n",
        "# Train Decision Tree Regressor with max_depth=5\n",
        "regressor_limited = DecisionTreeRegressor(max_depth=5, random_state=42)\n",
        "regressor_limited.fit(X_train, y_train)\n",
        "y_pred_limited = regressor_limited.predict(X_test)\n",
        "mse_limited = mean_squared_error(y_test, y_pred_limited)\n",
        "\n",
        "# Train unrestricted Decision Tree Regressor\n",
        "regressor_unlimited = DecisionTreeRegressor(random_state=42)\n",
        "regressor_unlimited.fit(X_train, y_train)\n",
        "y_pred_unlimited = regressor_unlimited.predict(X_test)\n",
        "mse_unlimited = mean_squared_error(y_test, y_pred_unlimited)\n",
        "\n",
        "# Print results\n",
        "print(\"Decision Tree Regressor (max_depth=5):\")\n",
        "print(\"Mean Squared Error:\", mse_limited)\n",
        "\n",
        "print(\"\\nUnrestricted Decision Tree Regressor:\")\n",
        "print(\"Mean Squared Error:\", mse_unlimited)"
      ],
      "metadata": {
        "colab": {
          "base_uri": "https://localhost:8080/"
        },
        "id": "7hMIhPz1jrjw",
        "outputId": "12a64ec4-da63-485c-f7d6-d571917b3f54"
      },
      "execution_count": 12,
      "outputs": [
        {
          "output_type": "stream",
          "name": "stdout",
          "text": [
            "Decision Tree Regressor (max_depth=5):\n",
            "Mean Squared Error: 0.010822519673287487\n",
            "\n",
            "Unrestricted Decision Tree Regressor:\n",
            "Mean Squared Error: 0.024533536393351086\n"
          ]
        }
      ]
    },
    {
      "cell_type": "code",
      "source": [
        "#Q12.Write a Python program to train a Decision Tree Classifier, apply Cost Complexity Pruning (CCP), and visualize its effect on accuracy.\n",
        "\n",
        "# Authors: The scikit-learn developers\n",
        "# SPDX-License-Identifier: BSD-3-Clause\n",
        "\n",
        "import matplotlib.pyplot as plt\n",
        "\n",
        "from sklearn.datasets import load_breast_cancer\n",
        "from sklearn.model_selection import train_test_split\n",
        "from sklearn.tree import DecisionTreeClassifier\n",
        "X, y = load_breast_cancer(return_X_y=True)\n",
        "X_train, X_test, y_train, y_test = train_test_split(X, y, random_state=0)\n",
        "\n",
        "clf = DecisionTreeClassifier(random_state=0)\n",
        "path = clf.cost_complexity_pruning_path(X_train, y_train)\n",
        "ccp_alphas, impurities = path.ccp_alphas, path.impurities\n",
        "fig, ax = plt.subplots()\n",
        "ax.plot(ccp_alphas[:-1], impurities[:-1], marker=\"o\", drawstyle=\"steps-post\")\n",
        "ax.set_xlabel(\"effective alpha\")\n",
        "ax.set_ylabel(\"total impurity of leaves\")\n",
        "ax.set_title(\"Total Impurity vs effective alpha for training set\")"
      ],
      "metadata": {
        "colab": {
          "base_uri": "https://localhost:8080/",
          "height": 489
        },
        "id": "e8OhH_XMj0XR",
        "outputId": "84e130c5-76bb-418f-a116-ffd089d40099"
      },
      "execution_count": 13,
      "outputs": [
        {
          "output_type": "execute_result",
          "data": {
            "text/plain": [
              "Text(0.5, 1.0, 'Total Impurity vs effective alpha for training set')"
            ]
          },
          "metadata": {},
          "execution_count": 13
        },
        {
          "output_type": "display_data",
          "data": {
            "text/plain": [
              "<Figure size 640x480 with 1 Axes>"
            ],
            "image/png": "[encoded data removed]"
          },
          "metadata": {}
        }
      ]
    },
    {
      "cell_type": "code",
      "source": [
        "#Q13.Write a Python program to train a Decision Tree Classifier and evaluate its performance using Precision, Recall, and F1-Score.\n",
        "\n",
        "from sklearn.model_selection import train_test_split\n",
        "from sklearn.tree import DecisionTreeClassifier\n",
        "from sklearn.metrics import precision_score, recall_score, f1_score\n",
        "from sklearn.datasets import load_iris\n",
        "\n",
        "# Load the Iris dataset\n",
        "iris = load_iris()\n",
        "X, y = iris.data, iris.target\n",
        "\n",
        "# Split the dataset into training and testing sets\n",
        "X_train, X_test, y_train, y_test = train_test_split(X, y, test_size=0.3, random_state=42)\n",
        "\n",
        "# Create a Decision Tree Classifier\n",
        "dt_classifier = DecisionTreeClassifier(random_state=42)\n",
        "\n",
        "# Train the classifier\n",
        "dt_classifier.fit(X_train, y_train)\n",
        "\n",
        "# Make predictions on the test set\n",
        "y_pred = dt_classifier.predict(X_test)\n",
        "\n",
        "# Calculate precision, recall, and F1-score\n",
        "precision = precision_score(y_test, y_pred, average='weighted')\n",
        "recall = recall_score(y_test, y_pred, average='weighted')\n",
        "f1 = f1_score(y_test, y_pred, average='weighted')\n",
        "\n",
        "# Print the evaluation metrics\n",
        "print(\"Precision:\", precision)\n",
        "print(\"Recall:\", recall)\n",
        "print(\"F1-score:\", f1)"
      ],
      "metadata": {
        "colab": {
          "base_uri": "https://localhost:8080/"
        },
        "id": "j5dgRz--kFLU",
        "outputId": "276cae37-c453-467c-a8b2-d2fa1b16c9bd"
      },
      "execution_count": 14,
      "outputs": [
        {
          "output_type": "stream",
          "name": "stdout",
          "text": [
            "Precision: 1.0\n",
            "Recall: 1.0\n",
            "F1-score: 1.0\n"
          ]
        }
      ]
    },
    {
      "cell_type": "code",
      "source": [
        "#Q14.Write a Python program to train a Decision Tree Classifier and visualize the confusion matrix using seaborn.\n",
        "\n",
        "import matplotlib.pyplot as plt\n",
        "import numpy\n",
        "from sklearn import metrics\n",
        "\n",
        "actual = numpy.random.binomial(1,.9,size = 1000)\n",
        "predicted = numpy.random.binomial(1,.9,size = 1000)\n",
        "\n",
        "confusion_matrix = metrics.confusion_matrix(actual, predicted)\n",
        "\n",
        "cm_display = metrics.ConfusionMatrixDisplay(confusion_matrix = confusion_matrix, display_labels = [0, 1])\n",
        "\n",
        "cm_display.plot()\n",
        "plt.show()"
      ],
      "metadata": {
        "colab": {
          "base_uri": "https://localhost:8080/",
          "height": 449
        },
        "id": "I4l6Rm9gkN9Q",
        "outputId": "6df9975e-3a01-4f5e-9624-ed25c6cfd397"
      },
      "execution_count": 15,
      "outputs": [
        {
          "output_type": "display_data",
          "data": {
            "text/plain": [
              "<Figure size 640x480 with 2 Axes>"
            ],
            "image/png": "[encoded data removed]"
          },
          "metadata": {}
        }
      ]
    },
    {
      "cell_type": "code",
      "source": [
        "#Q15.Write a Python program to train a Decision Tree Classifier and use GridSearchCV to find the optimal values for max_depth and min_samples_split.\n",
        "\n",
        "import pandas as pd\n",
        "from sklearn.model_selection import train_test_split, GridSearchCV\n",
        "from sklearn.tree import DecisionTreeClassifier\n",
        "from sklearn.metrics import accuracy_score\n",
        "from sklearn.datasets import load_iris\n",
        "\n",
        "# Load the iris dataset\n",
        "iris = load_iris()\n",
        "df = pd.DataFrame(data=iris.data, columns=iris.feature_names)\n",
        "df['target'] = iris.target\n",
        "\n",
        "# Split the data into training and testing sets\n",
        "X_train, X_test, y_train, y_test = train_test_split(df.drop('target', axis=1), df['target'], test_size=0.3, random_state=42)\n",
        "\n",
        "# Define the parameter grid to search\n",
        "param_grid = {\n",
        "    'max_depth': [3, 5, 7, 10],\n",
        "    'min_samples_split': [2, 5, 10]\n",
        "}\n",
        "\n",
        "# Create a Decision Tree Classifier\n",
        "dtree = DecisionTreeClassifier(random_state=42)\n",
        "\n",
        "# Create GridSearchCV object\n",
        "grid_search = GridSearchCV(dtree, param_grid, cv=5, scoring='accuracy')\n",
        "\n",
        "# Fit the GridSearchCV object to the training data\n",
        "grid_search.fit(X_train, y_train)\n",
        "\n",
        "# Print the best parameters and best score\n",
        "print(\"Best parameters:\", grid_search.best_params_)\n",
        "print(\"Best score:\", grid_search.best_score_)\n",
        "\n",
        "# Get the best estimator\n",
        "best_dtree = grid_search.best_estimator_\n",
        "\n",
        "# Make predictions on the test set\n",
        "y_pred = best_dtree.predict(X_test)\n",
        "\n",
        "# Calculate the accuracy of the best model\n",
        "accuracy = accuracy_score(y_test, y_pred)\n",
        "print(\"Accuracy on test set:\", accuracy)"
      ],
      "metadata": {
        "colab": {
          "base_uri": "https://localhost:8080/"
        },
        "id": "HR19pi7wkbWd",
        "outputId": "11f3c7d2-110a-4ef4-f929-4fe11194738c"
      },
      "execution_count": 16,
      "outputs": [
        {
          "output_type": "stream",
          "name": "stdout",
          "text": [
            "Best parameters: {'max_depth': 5, 'min_samples_split': 10}\n",
            "Best score: 0.9428571428571428\n",
            "Accuracy on test set: 1.0\n"
          ]
        }
      ]
    }
  ]
}